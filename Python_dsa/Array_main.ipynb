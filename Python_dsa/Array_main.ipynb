{
 "cells": [
  {
   "cell_type": "markdown",
   "source": [
    "## INIT"
   ],
   "metadata": {}
  },
  {
   "cell_type": "code",
   "execution_count": 4,
   "source": [
    "arr = [4,6,23,9,6,5]\r\n",
    "arr_ch = ['a','h','tr','rd','d','lol']"
   ],
   "outputs": [],
   "metadata": {}
  },
  {
   "cell_type": "markdown",
   "source": [
    "# REVERSE ARRAY"
   ],
   "metadata": {}
  },
  {
   "cell_type": "code",
   "execution_count": 5,
   "source": [
    "# List Slicing\r\n",
    "tmp1 = arr\r\n",
    "tmp1 = tmp1[::-1]\r\n",
    "print(tmp1)\r\n",
    "\r\n",
    "# Swap In-Place\r\n",
    "tmp2 = arr\r\n",
    "start = 0\r\n",
    "end = len(tmp2)-1\r\n",
    "while start < end:\r\n",
    "    tmp2[start], tmp2[end] = tmp2[end], tmp2[start]\r\n",
    "    start += 1\r\n",
    "    end -= 1\r\n",
    "print(tmp2)\r\n",
    "\r\n",
    "# Using in-built functions\r\n",
    "tmp3 = arr_ch\r\n",
    "tmp3.reverse()\r\n",
    "print(tmp3)\r\n",
    "\r\n",
    "# Using JOIN and function --> Merge in a single one\r\n",
    "tmp4 = arr_ch\r\n",
    "tmp4 = ', '.join(reversed(tmp4))\r\n",
    "print(tmp4)"
   ],
   "outputs": [
    {
     "output_type": "stream",
     "name": "stdout",
     "text": [
      "[5, 6, 9, 23, 6, 4]\n",
      "[5, 6, 9, 23, 6, 4]\n",
      "['lol', 'd', 'rd', 'tr', 'h', 'a']\n",
      "a, h, tr, rd, d, lol\n"
     ]
    }
   ],
   "metadata": {}
  },
  {
   "cell_type": "markdown",
   "source": [
    "# ARRAY ROTATION"
   ],
   "metadata": {}
  },
  {
   "cell_type": "markdown",
   "source": [
    "## **Left Rotate**"
   ],
   "metadata": {}
  },
  {
   "cell_type": "code",
   "execution_count": 6,
   "source": [
    "# Using temp array [Space in-efficient]\r\n",
    "\r\n",
    "# Using temp variable (one-by-one)\r\n",
    "tmp5 = arr\r\n",
    "print(\"Original - \"+str(tmp5))\r\n",
    "\r\n",
    "n1 = 3 #number to rotate by\r\n",
    "for i in range(0,n1):\r\n",
    "    first = tmp5[0]\r\n",
    "    for j in range(0, len(tmp5)-1):\r\n",
    "        tmp5[j] = tmp5[j+1]\r\n",
    "    tmp5[-1] = first\r\n",
    "print(\"Left rotate - \"+str(tmp5))\r\n",
    "\r\n",
    "\r\n",
    "# Using SLICING in Python\r\n",
    "tmp7 = arr\r\n",
    "\r\n",
    "l = len(tmp7)\r\n",
    "tmp7[:] = tmp7[l:n1] + tmp7[0:l]\r\n",
    "print(\"Slicing - \"+str(tmp7))\r\n"
   ],
   "outputs": [
    {
     "output_type": "stream",
     "name": "stdout",
     "text": [
      "Original - [5, 6, 9, 23, 6, 4]\n",
      "Left rotate - [23, 6, 4, 5, 6, 9]\n",
      "Slicing - [23, 6, 4, 5, 6, 9]\n"
     ]
    }
   ],
   "metadata": {}
  },
  {
   "cell_type": "markdown",
   "source": [
    "## **Right Rotate**"
   ],
   "metadata": {}
  },
  {
   "cell_type": "code",
   "execution_count": 7,
   "source": [
    "n2 = 4 #number to rotate by\r\n",
    "tmp6 = arr_ch\r\n",
    "print(\"Original - \"+str(tmp6))\r\n",
    "\r\n",
    "for i in range(0,n2):\r\n",
    "    last = tmp6[-1]\r\n",
    "    for j in range(len(tmp6)-1,-1,-1):\r\n",
    "        tmp6[j] = tmp6[j-1]\r\n",
    "    tmp6[0] = last\r\n",
    "print(\"Right rotate - \"+str(tmp6))"
   ],
   "outputs": [
    {
     "output_type": "stream",
     "name": "stdout",
     "text": [
      "Original - ['lol', 'd', 'rd', 'tr', 'h', 'a']\n",
      "Right rotate - ['rd', 'tr', 'h', 'a', 'lol', 'd']\n"
     ]
    }
   ],
   "metadata": {}
  },
  {
   "cell_type": "markdown",
   "source": [
    "## *Push all Zeroes to the end*"
   ],
   "metadata": {}
  },
  {
   "cell_type": "code",
   "execution_count": 8,
   "source": [
    "tmp8 = [1,0,4,0,5,6,0,0,4,8,9]\r\n",
    "n3 = len(tmp8)\r\n",
    "\r\n",
    "count = 0 # Count of non-zero elements\r\n",
    "\r\n",
    "# If element encountered is non-zero, then\r\n",
    "# replace the element at index 'count' with this element\r\n",
    "for i in range(n3):\r\n",
    "    if tmp8[i] != 0:\r\n",
    "            \r\n",
    "        # here count is incremented\r\n",
    "        tmp8[count] = tmp8[i]\r\n",
    "        count+=1\r\n",
    "    \r\n",
    "# Now all non-zero elements have been shifted to front \r\n",
    "# 'count' is set as index of first 0. \r\n",
    "# Make all elements 0 from count to end.\r\n",
    "while count < n3:\r\n",
    "    tmp8[count] = 0\r\n",
    "    count += 1\r\n",
    "\r\n",
    "print(tmp8)"
   ],
   "outputs": [
    {
     "output_type": "stream",
     "name": "stdout",
     "text": [
      "[1, 4, 5, 6, 4, 8, 9, 0, 0, 0, 0]\n"
     ]
    }
   ],
   "metadata": {}
  },
  {
   "cell_type": "markdown",
   "source": [
    "\r\n",
    "___"
   ],
   "metadata": {}
  },
  {
   "cell_type": "markdown",
   "source": [
    "### Reverse array in C++\r\n",
    "https://www.techiedelight.com/reverse-an-array-cpp/  \r\n",
    "https://pencilprogrammer.com/cpp-programs/reverse-array/\r\n",
    "\r\n",
    "- Print in reverse (rev loop)\r\n",
    "- Using temp array (Copy in reverse loop)\r\n",
    "- Using temp variable (Store and shift)\r\n",
    "- Using stack (Append all and pop to the array in reverse)\r\n",
    "- In-place swapping (Swap elements from both end)"
   ],
   "metadata": {}
  }
 ],
 "metadata": {
  "orig_nbformat": 4,
  "language_info": {
   "name": "python",
   "version": "3.9.1",
   "mimetype": "text/x-python",
   "codemirror_mode": {
    "name": "ipython",
    "version": 3
   },
   "pygments_lexer": "ipython3",
   "nbconvert_exporter": "python",
   "file_extension": ".py"
  },
  "kernelspec": {
   "name": "python3",
   "display_name": "Python 3.9.1 64-bit"
  },
  "interpreter": {
   "hash": "8858a552564f4e5a7a1a1bc8067ba8cbaaf7c93184af2cc596bf367dd88337fe"
  }
 },
 "nbformat": 4,
 "nbformat_minor": 2
}